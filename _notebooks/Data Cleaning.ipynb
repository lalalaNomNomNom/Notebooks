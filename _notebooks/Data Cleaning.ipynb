{
 "cells": [
  {
   "cell_type": "markdown",
   "metadata": {},
   "source": [
    "# Data Cleaning\n",
    "> notebook that creates the kerry datasets.\n",
    "- author: Richard Castro\n",
    "- toc: false\n",
    "- badges: false\n",
    "- comments: false\n",
    "- categories: [Matrix]\n",
    "- image: images/logo.png\n",
    "- hide: true\n",
    "- search_exclude: true"
   ]
  },
  {
   "cell_type": "markdown",
   "metadata": {},
   "source": [
    "SET VARIABLES FOR THIS REPORT"
   ]
  },
  {
   "cell_type": "code",
   "execution_count": null,
   "metadata": {},
   "outputs": [],
   "source": [
    "#collapse-hide\n",
    "client= input('client')\n",
    "report=input('report type: US or World')\n",
    "today=\n",
    "yesterday=\n",
    "WeekRange="
   ]
  },
  {
   "cell_type": "code",
   "execution_count": 1,
   "metadata": {},
   "outputs": [],
   "source": [
    "#collapse-hide\n",
    "#IMPORT LIBRARIES AND DATA SET FILES\n",
    "import pandas as pd\n",
    "tn=pd.read_csv('../_data/tn.csv')\n",
    "rt=pd.read_csv('../_data/rt.csv')\n",
    "fl=pd.read_csv('../_data/fl.csv')\n",
    "cen=pd.read_csv('../_data/cen.csv')"
   ]
  },
  {
   "cell_type": "code",
   "execution_count": 2,
   "metadata": {},
   "outputs": [
    {
     "data": {
      "text/html": [
       "<div>\n",
       "<style scoped>\n",
       "    .dataframe tbody tr th:only-of-type {\n",
       "        vertical-align: middle;\n",
       "    }\n",
       "\n",
       "    .dataframe tbody tr th {\n",
       "        vertical-align: top;\n",
       "    }\n",
       "\n",
       "    .dataframe thead th {\n",
       "        text-align: right;\n",
       "    }\n",
       "</style>\n",
       "<table border=\"1\" class=\"dataframe\">\n",
       "  <thead>\n",
       "    <tr style=\"text-align: right;\">\n",
       "      <th></th>\n",
       "      <th>fips</th>\n",
       "      <th>state</th>\n",
       "      <th>city</th>\n",
       "      <th>pop</th>\n",
       "    </tr>\n",
       "  </thead>\n",
       "  <tbody>\n",
       "    <tr>\n",
       "      <th>0</th>\n",
       "      <td>1001</td>\n",
       "      <td>Alabama</td>\n",
       "      <td>Autauga County</td>\n",
       "      <td>55869</td>\n",
       "    </tr>\n",
       "    <tr>\n",
       "      <th>1</th>\n",
       "      <td>1003</td>\n",
       "      <td>Alabama</td>\n",
       "      <td>Baldwin County</td>\n",
       "      <td>223234</td>\n",
       "    </tr>\n",
       "    <tr>\n",
       "      <th>2</th>\n",
       "      <td>1005</td>\n",
       "      <td>Alabama</td>\n",
       "      <td>Barbour County</td>\n",
       "      <td>24686</td>\n",
       "    </tr>\n",
       "    <tr>\n",
       "      <th>3</th>\n",
       "      <td>1007</td>\n",
       "      <td>Alabama</td>\n",
       "      <td>Bibb County</td>\n",
       "      <td>22394</td>\n",
       "    </tr>\n",
       "    <tr>\n",
       "      <th>4</th>\n",
       "      <td>1009</td>\n",
       "      <td>Alabama</td>\n",
       "      <td>Blount County</td>\n",
       "      <td>57826</td>\n",
       "    </tr>\n",
       "    <tr>\n",
       "      <th>...</th>\n",
       "      <td>...</td>\n",
       "      <td>...</td>\n",
       "      <td>...</td>\n",
       "      <td>...</td>\n",
       "    </tr>\n",
       "    <tr>\n",
       "      <th>3137</th>\n",
       "      <td>56037</td>\n",
       "      <td>Wyoming</td>\n",
       "      <td>Sweetwater County</td>\n",
       "      <td>42343</td>\n",
       "    </tr>\n",
       "    <tr>\n",
       "      <th>3138</th>\n",
       "      <td>56039</td>\n",
       "      <td>Wyoming</td>\n",
       "      <td>Teton County</td>\n",
       "      <td>23464</td>\n",
       "    </tr>\n",
       "    <tr>\n",
       "      <th>3139</th>\n",
       "      <td>56041</td>\n",
       "      <td>Wyoming</td>\n",
       "      <td>Uinta County</td>\n",
       "      <td>20226</td>\n",
       "    </tr>\n",
       "    <tr>\n",
       "      <th>3140</th>\n",
       "      <td>56043</td>\n",
       "      <td>Wyoming</td>\n",
       "      <td>Washakie County</td>\n",
       "      <td>7805</td>\n",
       "    </tr>\n",
       "    <tr>\n",
       "      <th>3141</th>\n",
       "      <td>56045</td>\n",
       "      <td>Wyoming</td>\n",
       "      <td>Weston County</td>\n",
       "      <td>6927</td>\n",
       "    </tr>\n",
       "  </tbody>\n",
       "</table>\n",
       "<p>3142 rows × 4 columns</p>\n",
       "</div>"
      ],
      "text/plain": [
       "       fips    state               city     pop\n",
       "0      1001  Alabama     Autauga County   55869\n",
       "1      1003  Alabama     Baldwin County  223234\n",
       "2      1005  Alabama     Barbour County   24686\n",
       "3      1007  Alabama        Bibb County   22394\n",
       "4      1009  Alabama      Blount County   57826\n",
       "...     ...      ...                ...     ...\n",
       "3137  56037  Wyoming  Sweetwater County   42343\n",
       "3138  56039  Wyoming       Teton County   23464\n",
       "3139  56041  Wyoming       Uinta County   20226\n",
       "3140  56043  Wyoming    Washakie County    7805\n",
       "3141  56045  Wyoming      Weston County    6927\n",
       "\n",
       "[3142 rows x 4 columns]"
      ]
     },
     "execution_count": 2,
     "metadata": {},
     "output_type": "execute_result"
    }
   ],
   "source": [
    "#collapse-hide\n",
    "tn.columns=map(str.lower, tn.columns)\n",
    "tnCol=['date', 'state', 'county', 'test_pos', 'test_neg', 'test_tot','test_new', 'cases_confirmed',\n",
    "       'new_cases_confirmed','cases_tot', 'cases_new', 'deaths_tot','deaths_new']\n",
    "tnC=tn[tnCol]\n",
    "tnA=tnC.rename(columns={'test_pos':'testP', 'test_neg':'testN', 'test_tot':'testT','test_new':'testNew', 'cases_confirmed':'casesConfirmed',\n",
    "      'cases_tot':'CaseT', 'cases_new':'CasesNew', 'deaths_tot':'deathT','deaths_new':'deathNew'})\n",
    "\n",
    "rt.columns=map(str.lower, rt.columns)\n",
    "rt=rt.rename(columns={'region':'state'})\n",
    "rtCol=['date', 'state', 'mean']\n",
    "rta=rt[rtCol]\n",
    "\n",
    "fl.columns=map(str.lower, fl.columns)\n",
    "flA=fl.rename(columns={'test_t':'testT', 'test_n':'testN', 'test_p':'testP', 'deaths_tot':'deathT', 'cases_c':'casesConfirmed'})\n",
    "\n",
    "cen.columns=map(str.lower, cen.columns)\n",
    "cenCol=['fips', 'stname', 'ctyname','popestimate2019']\n",
    "cena=cen[cenCol]\n",
    "cena=cena.rename(columns={'stname':'state', 'ctyname':'city', 'popestimate2019':'pop'})\n",
    "cena"
   ]
  },
  {
   "cell_type": "code",
   "execution_count": null,
   "metadata": {},
   "outputs": [],
   "source": []
  },
  {
   "cell_type": "code",
   "execution_count": null,
   "metadata": {},
   "outputs": [],
   "source": []
  },
  {
   "cell_type": "code",
   "execution_count": null,
   "metadata": {},
   "outputs": [],
   "source": []
  },
  {
   "cell_type": "code",
   "execution_count": null,
   "metadata": {},
   "outputs": [],
   "source": []
  },
  {
   "cell_type": "code",
   "execution_count": null,
   "metadata": {},
   "outputs": [],
   "source": []
  },
  {
   "cell_type": "code",
   "execution_count": null,
   "metadata": {},
   "outputs": [],
   "source": []
  },
  {
   "cell_type": "code",
   "execution_count": null,
   "metadata": {},
   "outputs": [],
   "source": []
  }
 ],
 "metadata": {
  "kernelspec": {
   "display_name": "Python 3",
   "language": "python",
   "name": "python3"
  },
  "language_info": {
   "codemirror_mode": {
    "name": "ipython",
    "version": 3
   },
   "file_extension": ".py",
   "mimetype": "text/x-python",
   "name": "python",
   "nbconvert_exporter": "python",
   "pygments_lexer": "ipython3",
   "version": "3.8.3"
  }
 },
 "nbformat": 4,
 "nbformat_minor": 4
}
