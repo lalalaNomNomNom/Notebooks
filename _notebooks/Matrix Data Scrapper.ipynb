{
 "cells": [
  {
   "cell_type": "markdown",
   "metadata": {},
   "source": [
    "# TAG MATRIX DATA SCRAPER\n",
    "- author: Richard Castro \n",
    "- sticky_rank: 1\n",
    "- toc: true\n",
    "- badges: true\n",
    "- comments: false\n",
    "- categories: [Matrix]\n",
    "- image: images/scraper.jpg"
   ]
  },
  {
   "cell_type": "code",
   "execution_count": 2,
   "metadata": {},
   "outputs": [],
   "source": [
    "import pandas as pd\n",
    "import requests\n",
    "import datetime\n",
    "date=datetime.datetime.now().strftime(\"%Y-%m-%d\")"
   ]
  },
  {
   "cell_type": "markdown",
   "metadata": {},
   "source": [
    "# CANADA STUFF"
   ]
  },
  {
   "cell_type": "code",
   "execution_count": 6,
   "metadata": {},
   "outputs": [],
   "source": [
    "canadaFull=pd.read_csv('https://raw.githubusercontent.com/eebrown/data2019nCoV/master/data-raw/covid19.csv')\n",
    "canadaFull.to_csv('../_data/data_sources/canadaFull.csv')\n",
    "\n",
    "\n",
    "canadaCensus=pd.read_csv('https://www12.statcan.gc.ca/census-recensement/2016/dp-pd/hlt-fst/pd-pl/Tables/CompFile.cfm?Lang=Eng&T=301&OFT=FULLCSV')\n",
    "\n",
    "\n",
    "\n"
   ]
  },
  {
   "cell_type": "code",
   "execution_count": 4,
   "metadata": {},
   "outputs": [],
   "source": [
    "canadaDry=pd.read_csv('https://raw.githubusercontent.com/ishaberry/Covid19Canada/master/timeseries_prov/cases_timeseries_prov.csv')\n",
    "canadaDry.to_csv('../_data/data_sources/canadaCase.csv')"
   ]
  },
  {
   "cell_type": "code",
   "execution_count": 4,
   "metadata": {},
   "outputs": [],
   "source": [
    "rtlive=pd.read_csv('https://d14wlfuexuxgcm.cloudfront.net/covid/rt.csv')\n",
    "rtlive.to_csv('../_data/data_sources/rtlive/rtlive'+date+'.csv')"
   ]
  },
  {
   "cell_type": "markdown",
   "metadata": {},
   "source": [
    "# Mobility Reports\n",
    "\n",
    "<ul>\n",
    "    <li>Google Mobility Reports</li>\n",
    "    <li>Apple Mobility Reports</li>\n",
    "</ul>"
   ]
  },
  {
   "cell_type": "code",
   "execution_count": 4,
   "metadata": {},
   "outputs": [],
   "source": [
    "#GOOGLE AND APPLE MOBILITY DATA BY COUNTY \n",
    "#apple=pd.read_csv('https://covid19-static.cdn-apple.com/covid19-mobility-data/2014HotfixDev8/v3/en-us/applemobilitytrends-2020-08-08.csv')\n",
    "#apple.to_csv('../_data/Data_Sources/Mobility_Reports/apple.csv')\n",
    "google=pd.read_csv('https://www.gstatic.com/covid19/mobility/Global_Mobility_Report.csv')\n",
    "google.to_csv('../_data/Data_Sources/google/google.csv')"
   ]
  },
  {
   "cell_type": "markdown",
   "metadata": {},
   "source": [
    "# WORLD-O-METER DATASETS\n",
    "\n",
    "<ul>\n",
    "    <li>NEW YORK\n",
    "    <li>CALIFORNIA\n",
    "    <li>NEW JERSEY\n",
    "    <li>PA\n",
    "    <li>SOUTH CAROLINA\n",
    "    <li>OHIO\n",
    "    <li>WASHINGTON STATE\n",
    "</ul>\n"
   ]
  },
  {
   "cell_type": "code",
   "execution_count": 18,
   "metadata": {},
   "outputs": [
    {
     "ename": "ValueError",
     "evalue": "No tables found",
     "output_type": "error",
     "traceback": [
      "\u001b[1;31m---------------------------------------------------------------------------\u001b[0m",
      "\u001b[1;31mValueError\u001b[0m                                Traceback (most recent call last)",
      "\u001b[1;32m<ipython-input-18-9beffda8bcc3>\u001b[0m in \u001b[0;36m<module>\u001b[1;34m\u001b[0m\n\u001b[0;32m      1\u001b[0m \u001b[0mhealthDepartment\u001b[0m\u001b[1;33m=\u001b[0m\u001b[0mrequests\u001b[0m\u001b[1;33m.\u001b[0m\u001b[0mget\u001b[0m\u001b[1;33m(\u001b[0m\u001b[1;34m'https://data.ct.gov/Health-and-Human-Services/COVID-19-Tests-Cases-and-Deaths-By-Town-/28fr-iqnx/data'\u001b[0m\u001b[1;33m)\u001b[0m\u001b[1;33m\u001b[0m\u001b[1;33m\u001b[0m\u001b[0m\n\u001b[1;32m----> 2\u001b[1;33m \u001b[0mhd\u001b[0m\u001b[1;33m=\u001b[0m\u001b[0mpd\u001b[0m\u001b[1;33m.\u001b[0m\u001b[0mread_html\u001b[0m\u001b[1;33m(\u001b[0m\u001b[0mhealthDepartment\u001b[0m\u001b[1;33m.\u001b[0m\u001b[0mtext\u001b[0m\u001b[1;33m)\u001b[0m\u001b[1;33m\u001b[0m\u001b[1;33m\u001b[0m\u001b[0m\n\u001b[0m\u001b[0;32m      3\u001b[0m \u001b[0mhd\u001b[0m\u001b[1;33m\u001b[0m\u001b[1;33m\u001b[0m\u001b[0m\n\u001b[0;32m      4\u001b[0m \u001b[1;33m\u001b[0m\u001b[0m\n\u001b[0;32m      5\u001b[0m \u001b[1;33m\u001b[0m\u001b[0m\n",
      "\u001b[1;32mC:\\Users\\anaconda3\\envs\\USAcovidMAP\\lib\\site-packages\\pandas\\io\\html.py\u001b[0m in \u001b[0;36mread_html\u001b[1;34m(io, match, flavor, header, index_col, skiprows, attrs, parse_dates, thousands, encoding, decimal, converters, na_values, keep_default_na, displayed_only)\u001b[0m\n\u001b[0;32m   1083\u001b[0m         )\n\u001b[0;32m   1084\u001b[0m     \u001b[0mvalidate_header_arg\u001b[0m\u001b[1;33m(\u001b[0m\u001b[0mheader\u001b[0m\u001b[1;33m)\u001b[0m\u001b[1;33m\u001b[0m\u001b[1;33m\u001b[0m\u001b[0m\n\u001b[1;32m-> 1085\u001b[1;33m     return _parse(\n\u001b[0m\u001b[0;32m   1086\u001b[0m         \u001b[0mflavor\u001b[0m\u001b[1;33m=\u001b[0m\u001b[0mflavor\u001b[0m\u001b[1;33m,\u001b[0m\u001b[1;33m\u001b[0m\u001b[1;33m\u001b[0m\u001b[0m\n\u001b[0;32m   1087\u001b[0m         \u001b[0mio\u001b[0m\u001b[1;33m=\u001b[0m\u001b[0mio\u001b[0m\u001b[1;33m,\u001b[0m\u001b[1;33m\u001b[0m\u001b[1;33m\u001b[0m\u001b[0m\n",
      "\u001b[1;32mC:\\Users\\anaconda3\\envs\\USAcovidMAP\\lib\\site-packages\\pandas\\io\\html.py\u001b[0m in \u001b[0;36m_parse\u001b[1;34m(flavor, io, match, attrs, encoding, displayed_only, **kwargs)\u001b[0m\n\u001b[0;32m    913\u001b[0m             \u001b[1;32mbreak\u001b[0m\u001b[1;33m\u001b[0m\u001b[1;33m\u001b[0m\u001b[0m\n\u001b[0;32m    914\u001b[0m     \u001b[1;32melse\u001b[0m\u001b[1;33m:\u001b[0m\u001b[1;33m\u001b[0m\u001b[1;33m\u001b[0m\u001b[0m\n\u001b[1;32m--> 915\u001b[1;33m         \u001b[1;32mraise\u001b[0m \u001b[0mretained\u001b[0m\u001b[1;33m\u001b[0m\u001b[1;33m\u001b[0m\u001b[0m\n\u001b[0m\u001b[0;32m    916\u001b[0m \u001b[1;33m\u001b[0m\u001b[0m\n\u001b[0;32m    917\u001b[0m     \u001b[0mret\u001b[0m \u001b[1;33m=\u001b[0m \u001b[1;33m[\u001b[0m\u001b[1;33m]\u001b[0m\u001b[1;33m\u001b[0m\u001b[1;33m\u001b[0m\u001b[0m\n",
      "\u001b[1;32mC:\\Users\\anaconda3\\envs\\USAcovidMAP\\lib\\site-packages\\pandas\\io\\html.py\u001b[0m in \u001b[0;36m_parse\u001b[1;34m(flavor, io, match, attrs, encoding, displayed_only, **kwargs)\u001b[0m\n\u001b[0;32m    893\u001b[0m \u001b[1;33m\u001b[0m\u001b[0m\n\u001b[0;32m    894\u001b[0m         \u001b[1;32mtry\u001b[0m\u001b[1;33m:\u001b[0m\u001b[1;33m\u001b[0m\u001b[1;33m\u001b[0m\u001b[0m\n\u001b[1;32m--> 895\u001b[1;33m             \u001b[0mtables\u001b[0m \u001b[1;33m=\u001b[0m \u001b[0mp\u001b[0m\u001b[1;33m.\u001b[0m\u001b[0mparse_tables\u001b[0m\u001b[1;33m(\u001b[0m\u001b[1;33m)\u001b[0m\u001b[1;33m\u001b[0m\u001b[1;33m\u001b[0m\u001b[0m\n\u001b[0m\u001b[0;32m    896\u001b[0m         \u001b[1;32mexcept\u001b[0m \u001b[0mValueError\u001b[0m \u001b[1;32mas\u001b[0m \u001b[0mcaught\u001b[0m\u001b[1;33m:\u001b[0m\u001b[1;33m\u001b[0m\u001b[1;33m\u001b[0m\u001b[0m\n\u001b[0;32m    897\u001b[0m             \u001b[1;31m# if `io` is an io-like object, check if it's seekable\u001b[0m\u001b[1;33m\u001b[0m\u001b[1;33m\u001b[0m\u001b[1;33m\u001b[0m\u001b[0m\n",
      "\u001b[1;32mC:\\Users\\anaconda3\\envs\\USAcovidMAP\\lib\\site-packages\\pandas\\io\\html.py\u001b[0m in \u001b[0;36mparse_tables\u001b[1;34m(self)\u001b[0m\n\u001b[0;32m    211\u001b[0m         \u001b[0mlist\u001b[0m \u001b[0mof\u001b[0m \u001b[0mparsed\u001b[0m \u001b[1;33m(\u001b[0m\u001b[0mheader\u001b[0m\u001b[1;33m,\u001b[0m \u001b[0mbody\u001b[0m\u001b[1;33m,\u001b[0m \u001b[0mfooter\u001b[0m\u001b[1;33m)\u001b[0m \u001b[0mtuples\u001b[0m \u001b[1;32mfrom\u001b[0m \u001b[0mtables\u001b[0m\u001b[1;33m.\u001b[0m\u001b[1;33m\u001b[0m\u001b[1;33m\u001b[0m\u001b[0m\n\u001b[0;32m    212\u001b[0m         \"\"\"\n\u001b[1;32m--> 213\u001b[1;33m         \u001b[0mtables\u001b[0m \u001b[1;33m=\u001b[0m \u001b[0mself\u001b[0m\u001b[1;33m.\u001b[0m\u001b[0m_parse_tables\u001b[0m\u001b[1;33m(\u001b[0m\u001b[0mself\u001b[0m\u001b[1;33m.\u001b[0m\u001b[0m_build_doc\u001b[0m\u001b[1;33m(\u001b[0m\u001b[1;33m)\u001b[0m\u001b[1;33m,\u001b[0m \u001b[0mself\u001b[0m\u001b[1;33m.\u001b[0m\u001b[0mmatch\u001b[0m\u001b[1;33m,\u001b[0m \u001b[0mself\u001b[0m\u001b[1;33m.\u001b[0m\u001b[0mattrs\u001b[0m\u001b[1;33m)\u001b[0m\u001b[1;33m\u001b[0m\u001b[1;33m\u001b[0m\u001b[0m\n\u001b[0m\u001b[0;32m    214\u001b[0m         \u001b[1;32mreturn\u001b[0m \u001b[1;33m(\u001b[0m\u001b[0mself\u001b[0m\u001b[1;33m.\u001b[0m\u001b[0m_parse_thead_tbody_tfoot\u001b[0m\u001b[1;33m(\u001b[0m\u001b[0mtable\u001b[0m\u001b[1;33m)\u001b[0m \u001b[1;32mfor\u001b[0m \u001b[0mtable\u001b[0m \u001b[1;32min\u001b[0m \u001b[0mtables\u001b[0m\u001b[1;33m)\u001b[0m\u001b[1;33m\u001b[0m\u001b[1;33m\u001b[0m\u001b[0m\n\u001b[0;32m    215\u001b[0m \u001b[1;33m\u001b[0m\u001b[0m\n",
      "\u001b[1;32mC:\\Users\\anaconda3\\envs\\USAcovidMAP\\lib\\site-packages\\pandas\\io\\html.py\u001b[0m in \u001b[0;36m_parse_tables\u001b[1;34m(self, doc, match, attrs)\u001b[0m\n\u001b[0;32m    543\u001b[0m \u001b[1;33m\u001b[0m\u001b[0m\n\u001b[0;32m    544\u001b[0m         \u001b[1;32mif\u001b[0m \u001b[1;32mnot\u001b[0m \u001b[0mtables\u001b[0m\u001b[1;33m:\u001b[0m\u001b[1;33m\u001b[0m\u001b[1;33m\u001b[0m\u001b[0m\n\u001b[1;32m--> 545\u001b[1;33m             \u001b[1;32mraise\u001b[0m \u001b[0mValueError\u001b[0m\u001b[1;33m(\u001b[0m\u001b[1;34m\"No tables found\"\u001b[0m\u001b[1;33m)\u001b[0m\u001b[1;33m\u001b[0m\u001b[1;33m\u001b[0m\u001b[0m\n\u001b[0m\u001b[0;32m    546\u001b[0m \u001b[1;33m\u001b[0m\u001b[0m\n\u001b[0;32m    547\u001b[0m         \u001b[0mresult\u001b[0m \u001b[1;33m=\u001b[0m \u001b[1;33m[\u001b[0m\u001b[1;33m]\u001b[0m\u001b[1;33m\u001b[0m\u001b[1;33m\u001b[0m\u001b[0m\n",
      "\u001b[1;31mValueError\u001b[0m: No tables found"
     ]
    }
   ],
   "source": [
    "healthDepartment=requests.get('https://data.ct.gov/Health-and-Human-Services/COVID-19-Tests-Cases-and-Deaths-By-Town-/28fr-iqnx/data')\n",
    "hd=pd.read_html(healthDepartment.text)\n",
    "hd\n",
    "\n",
    "\n"
   ]
  },
  {
   "cell_type": "code",
   "execution_count": 16,
   "metadata": {},
   "outputs": [],
   "source": [
    "#WORLD O METER DATA\n",
    "#NEW YORK COUNTY DATA\n",
    "import datetime\n",
    "date=datetime.datetime.now().strftime(\"%Y-%m-%d\")\n",
    "\n",
    "web=requests.get('https://www.worldometers.info/coronavirus/usa/new-york')\n",
    "ny=pd.read_html(web.text)\n",
    "ny=ny[1]\n",
    "ny.columns=map(str.lower, ny.columns)\n",
    "ny.to_csv('../_data/Data_Sources/worldometer/'+date+'NY-County-Data.csv')\n",
    "\n",
    "#CALIFORNIA COUNTY DATA\n",
    "cad=requests.get('https://www.worldometers.info/coronavirus/usa/california')\n",
    "ca=pd.read_html(cad.text)\n",
    "ca=ca[1]\n",
    "ca.columns=map(str.lower, ca.columns)\n",
    "ca.to_csv('../_data/Data_Sources/worldometer/'+date+'CA-County-Data.csv')\n",
    "\n",
    "#NEW JERSEY COUNTY DATA\n",
    "njd=requests.get('https://www.worldometers.info/coronavirus/usa/new-jersey')\n",
    "nj=pd.read_html(njd.text)\n",
    "nj=nj[1]\n",
    "nj.columns=map(str.lower, nj.columns)\n",
    "nj.to_csv('../_data/Data_Sources/worldometer/'+date+'NJ-County-Data.csv')\n",
    "\n",
    "#OHIO COUNTY DATA\n",
    "ohd=requests.get('https://www.worldometers.info/coronavirus/usa/ohio/')\n",
    "oh=pd.read_html(ohd.text)\n",
    "oh=oh[1]\n",
    "oh.columns=map(str.lower, oh.columns)\n",
    "oh.to_csv('../_data/Data_Sources/worldometer/'+date+'OH-County-Data.csv')\n",
    "\n",
    "#SOUTH CAROLINA COUNTY DATA\n",
    "scd=requests.get('https://www.worldometers.info/coronavirus/usa/south-carolina/')\n",
    "sc=pd.read_html(scd.text)\n",
    "sc=sc[1]\n",
    "sc.columns=map(str.lower, sc.columns)\n",
    "sc.to_csv('../_data/Data_Sources/worldometer/'+date+'SC-County-Data.csv')\n",
    "\n",
    "#PA COUNTY DATA\n",
    "pad=requests.get('https://www.worldometers.info/coronavirus/usa/pennsylvania/')\n",
    "pa=pd.read_html(pad.text)\n",
    "pa=pa[1]\n",
    "pa.columns=map(str.lower, pa.columns)\n",
    "pa.to_csv('../_data/Data_Sources/worldometer/'+date+'PA-County-Data.csv')\n",
    "\n",
    "#WASHINGTON COUNTY DATA\n",
    "wad=requests.get('https://www.worldometers.info/coronavirus/usa/washington/')\n",
    "wa=pd.read_html(wad.text)\n",
    "wa=wa[1]\n",
    "wa.columns=map(str.lower, wa.columns)\n",
    "wa.to_csv('../_data/Data_Sources/worldometer/'+date+'WA-County-Data.csv')\n",
    "\n",
    "#US STATE LEVEL DATA\n",
    "we=requests.get('https://www.worldometers.info/coronavirus/country/us/')\n",
    "us=pd.read_html(we.text)\n",
    "us=us[1]\n",
    "us.to_csv('../_data/Data_Sources/worldometer/'+date+'US-State-Data.csv')"
   ]
  },
  {
   "cell_type": "markdown",
   "metadata": {},
   "source": [
    "# COUNTY HEALTH DEPARTMANT DATASETS\n"
   ]
  },
  {
   "cell_type": "code",
   "execution_count": null,
   "metadata": {},
   "outputs": [],
   "source": [
    "#HEALTH DEPARTMENTS DATA\n",
    "flData=pd.read_csv('https://opendata.arcgis.com/datasets/222c9d85e93540dba523939cfb718d76_0.csv?outSR=%7B%22latestWkid%22%3A4326%2C%22wkid%22%3A4326%7D')\n",
    "flData.to_csv('../_data/Data_Sources/Fl-Data.csv')\n",
    "\n",
    "miData=pd.read_excel('https://www.michigan.gov/documents/coronavirus/Covid-19_Tests_by_County_2020-08-08_698830_7.xlsx')\n",
    "miData.to_csv('../_data/Data_Sources/Health-Department-Data/MI-Tests-County.csv')\n",
    "\n",
    "miData2=pd.read_excel('https://www.michigan.gov/documents/coronavirus/Cases_by_County_and_Date_2020-08-08_698828_7.xlsx')\n",
    "miData2.to_csv('../_data/Data_Sources/Health-Department-Data/MI-Cases-County.csv')\n",
    "\n",
    "miData3=pd.read_excel('https://www.michigan.gov/documents/coronavirus/Cases_and_Deaths_by_County_2020-08-08_698827_7.xlsx')\n",
    "miData3.to_csv('../_data/Data_Sources/Health-Department-Data/MI-Deaths-Cases-County.csv')\n",
    "\n",
    "\n",
    "miData4=pd.read_csv('https://raw.githubusercontent.com/jeffcore/covid-19-usa-by-state/master/COVID-19-Cases-USA-By-County.csv')\n",
    "miData4.to_csv('../_data/Data_Sources/Health-Department-Data/COVID-19-Cases-USA-By-County.csv')\n",
    "\n",
    "miData5=pd.read_csv('https://raw.githubusercontent.com/jeffcore/covid-19-usa-by-state/master/COVID-19-Deaths-USA-By-County.csv')\n",
    "miData5.to_csv('../_data/Data_Sources/Health-Department-Data/COVID-19-Deaths-USA-By-County.csv')\n",
    "\n",
    "miData6=pd.read_csv('https://raw.githubusercontent.com/jeffcore/covid-19-usa-by-state/master/COVID-19-Cases-USA-By-State.csv')\n",
    "miData6.to_csv('../_data/Data_Sources/Health-Department-Data/COVID-19-Cases-USA-By-State.csv')\n",
    "\n",
    "miData7=pd.read_csv('https://raw.githubusercontent.com/jeffcore/covid-19-usa-by-state/master/COVID-19-Deaths-USA-By-State.csv')\n",
    "miData7.to_csv('../_data/Data_Sources/Health-Department-Data/COVID-19-Deaths-USA-By-State.csv')\n",
    "\n",
    "\n",
    "\n",
    "\n",
    "\n",
    "\n",
    "\n",
    "\n",
    "\n",
    "\n",
    "\n",
    "\n",
    "\n",
    "\n",
    "\n",
    "\n",
    "\n",
    "\n",
    "\n"
   ]
  },
  {
   "cell_type": "code",
   "execution_count": null,
   "metadata": {},
   "outputs": [],
   "source": [
    "#ANOTHER MODULE \n",
    "from bs4 import BeautifulSoup\n",
    "url=requests.get('https://covidactnow.org/us/fl/county/taylor_county?s=846164')\n",
    "soup = BeautifulSoup(requests.get(url).text)\n",
    "soup.findAll(\"table\")[0].findAll(\"tr\")[0]"
   ]
  },
  {
   "cell_type": "markdown",
   "metadata": {},
   "source": [
    "# COVID TRACKER DATA"
   ]
  },
  {
   "cell_type": "code",
   "execution_count": 15,
   "metadata": {},
   "outputs": [],
   "source": [
    "#COVID TRACKER DATA\n",
    "\n",
    "da1=pd.read_html('https://covidtracking.com/data/state/alabama')\n",
    "da1[1].to_csv('../_data/Data_Sources/CovidTracker/Alabama.csv')\n",
    "\n",
    "da2=pd.read_html('https://covidtracking.com/data/state/alaska')\n",
    "da2[1].to_csv('../_data/Data_Sources/CovidTracker/Alaska.csv')\n",
    "\n",
    "da3=pd.read_html('https://covidtracking.com/data/state/arizona')\n",
    "da3[1].to_csv('../_data/Data_Sources/CovidTracker/Arizona.csv')\n",
    "\n",
    "AR_COVIDTRACKER=pd.read_html('https://covidtracking.com/data/state/arkansas')\n",
    "AR_COVIDTRACKER[1].to_csv('../_data/data_sources/covidtracker/'+date+'-ARKANSAS.csv')\n",
    "\n",
    "CA_COVIDTRACKER=pd.read_html('https://covidtracking.com/data/state/california')\n",
    "CA_COVIDTRACKER[1].to_csv('../_data/data_sources/covidtracker/'+date+'-CALIFORNIA.csv') \n",
    "\n",
    "GA_COVIDTRACKER=pd.read_html('https://covidtracking.com/data/state/GEORGIA')\n",
    "GA_COVIDTRACKER[1].to_csv('../_data/data_sources/covidtracker/'+date+'-GEORGIA.csv')\n",
    "\n",
    "KS_COVIDTRACKER=pd.read_html('https://covidtracking.com/data/state/KANSAS')\n",
    "KS_COVIDTRACKER[1].to_csv('../_data/data_sources/covidtracker/'+date+'-KANSAS.csv')\n",
    "\n",
    "FL_COVIDTRACKER=pd.read_html('https://covidtracking.com/data/state/FLORIDA')\n",
    "FL_COVIDTRACKER[1].to_csv('../_data/data_sources/covidtracker/'+date+'-FLORIDA.csv')\n",
    "\n",
    "IL_COVIDTRACKER=pd.read_html('https://covidtracking.com/data/state/ILLINOIS')\n",
    "IL_COVIDTRACKER[1].to_csv('../_data/data_sources/covidtracker/'+date+'-ILLINOIS.csv')\n",
    "\n",
    "OH_COVIDTRACKER=pd.read_html('https://covidtracking.com/data/state/OHIO')\n",
    "OH_COVIDTRACKER[1].to_csv('../_data/data_sources/covidtracker/'+date+'-OHIO.csv')\n",
    "\n",
    "TN_COVIDTRACKER=pd.read_html('https://covidtracking.com/data/state/TENNESSEE')\n",
    "TN_COVIDTRACKER[1].to_csv('../_data/data_sources/covidtracker/'+date+'-TENNESSEE.csv')\n",
    "\n",
    "NE_COVIDTRACKER=pd.read_html('https://covidtracking.com/data/state/NEBRASKA')\n",
    "NE_COVIDTRACKER[1].to_csv('../_data/data_sources/covidtracker/'+date+'-NEBRASKA.csv')\n",
    "\n",
    "PA_COVIDTRACKER=pd.read_html('https://covidtracking.com/data/state/PENNSYLVANIA')\n",
    "PA_COVIDTRACKER[1].to_csv('../_data/data_sources/covidtracker/'+date+'-PENNSYLVANIA.csv')\n",
    "\n",
    "NC_COVIDTRACKER=pd.read_html('https://covidtracking.com/data/state/NORTH-CAROLINA')\n",
    "NC_COVIDTRACKER[1].to_csv('../_data/data_sources/covidtracker/'+date+'-NORTHCAROLINA.csv')\n",
    "\n",
    "KY_COVIDTRACKER=pd.read_html('https://covidtracking.com/data/state/KENTUCKY')\n",
    "KY_COVIDTRACKER[1].to_csv('../_data/data_sources/covidtracker/'+date+'-KENTUCKY.csv')\n",
    "\n",
    "CO_COVIDTRACKER=pd.read_html('https://covidtracking.com/data/state/COLORADO')\n",
    "CO_COVIDTRACKER[1].to_csv('../_data/data_sources/covidtracker/'+date+'-COLORADO.csv')\n",
    "\n",
    "KS_COVIDTRACKER=pd.read_html('https://covidtracking.com/data/state/KENTUCKY')\n",
    "KS_COVIDTRACKER[1].to_csv('../_data/data_sources/covidtracker/'+date+'-KENTUCKY.csv')\n",
    "\n",
    "NJ_COVIDTRACKER=pd.read_html('https://covidtracking.com/data/state/NEW-JERSEY')\n",
    "NJ_COVIDTRACKER[1].to_csv('../_data/data_sources/covidtracker/'+date+'-NEWJERSEY.csv')\n",
    "\n",
    "MN_COVIDTRACKER=pd.read_html('https://covidtracking.com/data/state/MINNESOTA')\n",
    "MN_COVIDTRACKER[1].to_csv('../_data/data_sources/covidtracker/'+date+'-MINNESOTA.csv')\n",
    "\n",
    "MI_COVIDTRACKER=pd.read_html('https://covidtracking.com/data/state/MICHIGAN')\n",
    "MI_COVIDTRACKER[1].to_csv('../_data/data_sources/covidtracker/'+date+'-MICHIGAN.csv')"
   ]
  },
  {
   "cell_type": "markdown",
   "metadata": {},
   "source": [
    "# NEW YORK TIMES DATA"
   ]
  },
  {
   "cell_type": "code",
   "execution_count": 7,
   "metadata": {},
   "outputs": [],
   "source": [
    "#NEW YORK TIMES DATA\n",
    "MASK_NYT=pd.read_csv('https://raw.githubusercontent.com/nytimes/covid-19-data/master/mask-use/mask-use-by-county.csv')\n",
    "MASK_NYT.to_csv('../_data/data_sources/NYT/MASKUSAGE-'+date+'.csv')\n",
    "\n",
    "CASESDEATHSC_NYT=pd.read_csv('https://raw.githubusercontent.com/nytimes/covid-19-data/master/us-counties.csv')\n",
    "CASESDEATHSC_NYT.to_csv('../_data/data_sources/NYT/CASES-DEATHS-COUNTY-'+date+'.csv')\n",
    "\n",
    "CASESDEATHS_NYT=pd.read_csv('https://raw.githubusercontent.com/nytimes/covid-19-data/master/us-states.csv')\n",
    "CASESDEATHS_NYT.to_csv('../_data/data_sources/NYT/CASES-DEATHS-STATE-'+date+'.csv')\n",
    "\n",
    "CASESDEATHSCD_NYT=pd.read_csv('https://raw.githubusercontent.com/nytimes/covid-19-data/master/live/us-counties.csv')\n",
    "CASESDEATHSCD_NYT.to_csv('../_data/data_sources/NYT/CASES-DEATHS-COUNTY-DAILY-'+date+'.csv')\n",
    "\n",
    "CASESDEATHSD_NYT=pd.read_csv('https://raw.githubusercontent.com/nytimes/covid-19-data/master/live/us-states.csv')\n",
    "CASESDEATHSD_NYT.to_csv('../_data/data_sources/NYT/CASES-DEATHS-STATE-DAILY-'+date+'.csv')\n",
    "\n",
    "EXDEATHS_NYT=pd.read_csv('https://raw.githubusercontent.com/nytimes/covid-19-data/master/excess-deaths/deaths.csv')\n",
    "EXDEATHS_NYT.to_csv('../_data/data_sources/NYT/EXCESS-DEATHS-CITY-'+date+'.csv')"
   ]
  },
  {
   "cell_type": "code",
   "execution_count": 2,
   "metadata": {},
   "outputs": [],
   "source": [
    "LINLAB=pd.read_csv('https://raw.githubusercontent.com/lin-lab/COVID19-Viz/master/clean_data/rt_table_export.csv')\n",
    "LINLAB.to_csv('../_data/data_sources/LINLAB/RTCOUNTYLEVEL-'+date+'.csv')"
   ]
  },
  {
   "cell_type": "code",
   "execution_count": 8,
   "metadata": {},
   "outputs": [],
   "source": [
    "wew=requests.get('https://www.geonames.org/statistics/')\n",
    "us=pd.read_html(wew.text)\n",
    "us[1].to_csv('../_data/data_sources/worldCountryPopulations.csv')\n",
    "\n"
   ]
  },
  {
   "cell_type": "code",
   "execution_count": null,
   "metadata": {},
   "outputs": [],
   "source": []
  }
 ],
 "metadata": {
  "kernelspec": {
   "display_name": "Python 3",
   "language": "python",
   "name": "python3"
  },
  "language_info": {
   "codemirror_mode": {
    "name": "ipython",
    "version": 3
   },
   "file_extension": ".py",
   "mimetype": "text/x-python",
   "name": "python",
   "nbconvert_exporter": "python",
   "pygments_lexer": "ipython3",
   "version": "3.8.3"
  }
 },
 "nbformat": 4,
 "nbformat_minor": 4
}
