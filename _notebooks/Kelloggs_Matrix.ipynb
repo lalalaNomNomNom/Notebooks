{
 "cells": [
  {
   "cell_type": "markdown",
   "metadata": {},
   "source": [
    "# KELLOGGS MATRIX\n",
    "- author: Richard Castro \n",
    "- sticky_rank: 4\n",
    "- toc: false\n",
    "- badges: false\n",
    "- comments: false\n",
    "- categories: [Matrix]\n",
    "- image: images/kelloggs.png"
   ]
  },
  {
   "cell_type": "code",
   "execution_count": null,
   "metadata": {},
   "outputs": [],
   "source": [
    "#collapse-hide\n",
    "#IMPORT LIBRARIES FROM PYTHON\n",
    "import pandas as pd\n",
    "pd.options.display.max_rows = 2800"
   ]
  },
  {
   "cell_type": "code",
   "execution_count": null,
   "metadata": {},
   "outputs": [],
   "source": [
    "#collapse-hide\n",
    "#IMPORT DATA SETS FROM TRUSTED SOURCES\n",
    "\n",
    "#US CENSUS DATA FROM -\n",
    "censusData = pd.read_csv('../_data/cen.csv')\n",
    "censusData.columns=map(str.lower, censusData.columns)\n",
    "#COUNTY MASK USAGE FROM -\n",
    "maskData = pd.read_csv('../_data/maskbycounty.csv')\n",
    "maskData.columns=map(str.lower, maskData.columns)\n",
    "\n",
    "#CLIENT LOCATION DATA\n",
    "locations=pd.read_csv('../_data/kellogg_locations.csv')\n",
    "locations\n",
    "loc=['state', 'county']\n",
    "showLocs=locations[loc]\n",
    "showLocs.set_index('state', inplace=True)\n",
    "print('These are the US Locations for: Kelloggs')\n",
    "showLocs"
   ]
  },
  {
   "cell_type": "code",
   "execution_count": null,
   "metadata": {},
   "outputs": [],
   "source": [
    "#collapse-hide\n",
    "#IMPORT LIBRARIES\n",
    "import numpy as np\n",
    "from matplotlib import pyplot as plt\n",
    "from mpl_toolkits.basemap import Basemap\n",
    "\n",
    "cities = pd.read_csv('../_data/client_locations/kelloggs.csv')\n",
    "lat = cities['lat'].values\n",
    "lon = cities['long_'].values\n",
    "population = cities['active'].values\n",
    "area = cities['tee'].values\n",
    "#collapse-hide\n",
    "fig = plt.figure(figsize=(18, 10))\n",
    "\n",
    "m = Basemap(llcrnrlon=-119,llcrnrlat=22,urcrnrlon=-64,urcrnrlat=49,\n",
    "        projection='lcc', resolution='l', lat_1=33,lat_2=45,lon_0=-95)\n",
    "\n",
    "m.shadedrelief()\n",
    "m.drawcoastlines(color='gray')\n",
    "m.drawcountries(color='gray')\n",
    "m.drawstates(color='gray')\n",
    "m.drawcounties(color='gray')\n",
    "\n",
    "\n",
    "m.scatter(lon, lat, latlon=True,\n",
    "          c=np.log10(population), s=area,\n",
    "          cmap='Reds', alpha=1)\n",
    "\n",
    "\n",
    "plt.title(\"Kelloggs Locations\")\n",
    "plt.colorbar(label=r'Covid Cases(Active)')\n",
    "plt.clim(3, 7)"
   ]
  },
  {
   "cell_type": "code",
   "execution_count": null,
   "metadata": {},
   "outputs": [],
   "source": [
    "#collapse-hide\n",
    "#RTLIVE DATA\n",
    "rt=pd.read_csv('../_data/rt.csv')\n",
    "#TN DATA IMPORT\n",
    "tn=pd.read_csv('../_data/tn.csv')\n",
    "tn.columns=map(str.lower, tn.columns)\n",
    "#OH DATA IMPORT\n",
    "oh=pd.read_csv('../_data/ohio.csv')\n",
    "oh.columns=map(str.lower, oh.columns)\n",
    "#FL DATA IMPORT\n",
    "fl=pd.read_csv('../_data/fl.csv')\n",
    "fl.columns=map(str.lower, fl.columns)\n",
    "#RT DATA CLEANING\n",
    "rt=rt.rename(columns={'region':'st'})\n",
    "rtC=['date', 'st', 'mean']\n",
    "rta=rt[rtC]\n",
    "\n",
    "#CLIENT AND RT DATA  MERGE\n",
    "LocationRT=pd.merge(locations, rta, on='st')\n",
    "Location=LocationRT[LocationRT['date']=='8/2/2020']\n",
    "#CENSUS DATA CLEANING\n",
    "cenC=['fips','popestimate2019']\n",
    "cen=censusData[cenC]\n",
    "#CLIENT AND CENSUS DATA MERGE\n",
    "locationCen=pd.merge(Location.astype(str), cen, on='fips')\n",
    "locationMask=pd.merge(locationCen, maskData.astype(str), on='fips')\n",
    "matrixReport=locationMask\n",
    "locations"
   ]
  },
  {
   "cell_type": "code",
   "execution_count": null,
   "metadata": {},
   "outputs": [],
   "source": [
    "#collapse-hide\n",
    "tn=tn.rename(columns={'state':'st', 'test_pos':'testP', 'test_neg':'testN', 'test_tot':'testT',\n",
    "       'test_new':'testNew', 'cases_confirmed':'cases', 'new_cases_confirmed':'casesNewCf', 'cases_probable':'casesP',\n",
    "       'cases_new_probable':'casesNP', 'cases_tot':'caseT', 'cases_new':'caseNew', 'hospitalized_tot':'hospT',\n",
    "       'hospitalized_new':'hospN', 'recov_tot':'recT', 'recov_new':'recN', 'deaths_tot':'deathsT',\n",
    "       'deaths_new':'deathsNew', 'active_tot':'actT', 'active_new':'actNew'})\n",
    "\n",
    "tnCol=['date', 'st', 'county', 'testP', 'testN', 'testT','testNew', 'cases', 'casesNewCf','casesP',\n",
    "       'casesNP', 'caseT', 'caseNew', 'hospT','hospN', 'recT', 'recN', 'deathsT',\n",
    "       'deathsNew', 'actT', 'actNew']\n",
    "tnc=tn[tnCol]\n",
    "tnc"
   ]
  },
  {
   "cell_type": "code",
   "execution_count": null,
   "metadata": {},
   "outputs": [],
   "source": [
    "#collapse-hide\n",
    "fl=fl.rename(columns={'cases_c':'caseT', 'test_t':'testT', 'test_n':'testN', 'test_p':'testP',\n",
    "       'deaths_tot':'deathsT'})\n",
    "flCol=['county', 'state', 'caseT', 'testT', 'testN', 'testP',\n",
    "       'deathsT']\n",
    "flc=fl[flCol]"
   ]
  },
  {
   "cell_type": "code",
   "execution_count": null,
   "metadata": {},
   "outputs": [],
   "source": [
    "#collapse-hide\n",
    "ohCol=['case count', 'death count', 'hospitalized count',\n",
    "       'fips']\n",
    "ohC=oh[ohCol]\n",
    "ohC=ohC.rename(columns={'case count':'caseT', 'death count':'deathT', 'hospitalized count':'hospT'})"
   ]
  },
  {
   "cell_type": "code",
   "execution_count": null,
   "metadata": {},
   "outputs": [],
   "source": [
    "#collapse-hide\n",
    "matrixMix=pd.merge(matrixReport, ohC.astype(str), on='fips', how='left')\n",
    "flc=flc.rename(columns={'state':'st'})\n",
    "matrixM=pd.merge(matrixMix, flc, on=['county', 'st'], how='left')\n",
    "matrixM.head(1)"
   ]
  },
  {
   "cell_type": "code",
   "execution_count": null,
   "metadata": {},
   "outputs": [],
   "source": [
    "#collapse-hide\n",
    "tnc.columns"
   ]
  },
  {
   "cell_type": "code",
   "execution_count": null,
   "metadata": {},
   "outputs": [],
   "source": [
    "#collapse-hide\n",
    "mat=pd.merge(matrixM.astype(str)[pd.notnull], tnc.astype(str)[pd.notnull], on=['st', 'county',  'deathsT', 'testT', 'testN', 'hospT'], how='left')\n",
    "pd.options.display.max_rows = 2800\n",
    "pd.options.display.max_columns = 2800\n",
    "mat"
   ]
  },
  {
   "cell_type": "code",
   "execution_count": null,
   "metadata": {},
   "outputs": [],
   "source": []
  },
  {
   "cell_type": "code",
   "execution_count": null,
   "metadata": {},
   "outputs": [],
   "source": [
    "#collapse-hide\n",
    "#RT DATA FROM -\n",
    "D=pd.read_csv('../_data/rttestcounty.csv')\n",
    "countyData = pd.read_csv('../_data/isee.csv')\n",
    "rtData = pd.read_csv('https://d14wlfuexuxgcm.cloudfront.net/covid/rt.csv')\n",
    "\n",
    "#CLEAN UP DATA AND STANDARDIZE THE COLUMNS\n",
    "ACol=[ 'uid', 'date', 'resolution', 'date_lag', 'Rt_plot', 'Rt_upr',\n",
    "       'Rt_lwr', 'Rt_loess_fit', 'Rt_loess_lwr', 'Rt_loess_upr',\n",
    "       'positiveIncrease', 'positive', 'positive_7day', 'positive_percapita',\n",
    "       'positiveIncr_percapita', 'deathIncrease', 'death', 'death_percapita',\n",
    "       'deathIncr_percapita']\n",
    "As=countyData[ACol]\n",
    "\n",
    "pCol=['fips', 'POPESTIMATE2019']\n",
    "censusDataCleaned=censusData[pCol]\n",
    "\n",
    "#KELLOGGS LOCATIONS\n",
    "clientLocations=pd.read_csv('../_data/kellogg_locations.csv')\n",
    "fCol=['uid', 'fips', 'state', 'county']\n",
    "clientDataCleaned=clientLocations[fCol]\n",
    "clientDataCleaned\n",
    "\n",
    "\n",
    "mergeClientCensus=pd.merge(censusDataCleaned, clientDataCleaned.astype(str), on =\"fips\")\n",
    "mergeData=mergeClientCensus.sort_values('state')\n",
    "\n",
    "\n",
    "md=pd.merge(mergeData, D.astype(str), on='fips')\n",
    "mn=md.sort_values('state')\n",
    "\n",
    "UT=pd.merge(mergeData, As.astype(str), on='uid')\n",
    "today = '08/01/2020'\n",
    "UTT = UT[UT['date']==today]\n",
    "\n",
    "AwA=pd.merge(As.astype(str), mergeData, on='uid', )\n",
    "\n",
    "AwCol=[ 'state', 'county', 'date', 'resolution', 'Rt_plot', 'Rt_upr', 'Rt_lwr',\n",
    "       'Rt_loess_fit', 'Rt_loess_lwr', 'Rt_loess_upr', 'positiveIncrease',\n",
    "       'positive', 'positive_7day', 'positive_percapita',\n",
    "       'positiveIncr_percapita', 'deathIncrease', 'death', 'death_percapita',\n",
    "       'deathIncr_percapita',  'POPESTIMATE2019', 'fips' ]\n",
    "AwCleaned = AwA[AwCol]\n",
    "\n",
    "ATT=pd.merge(AwCleaned, maskData.astype(str), on='fips')\n",
    "pd.options.display.max_rows = 2800\n",
    "\n",
    "ATCol=['state', 'county', 'date', 'Rt_plot', 'positiveIncrease',\n",
    "       'positive', 'positive_7day', 'positive_percapita',\n",
    "       'positiveIncr_percapita', 'deathIncrease', 'death', 'death_percapita',\n",
    "       'deathIncr_percapita', 'POPESTIMATE2019', 'NEVER', 'RARELY',\n",
    "       'SOMETIMES', 'FREQUENTLY', 'ALWAYS']\n",
    "ATR=ATT[ATCol]\n",
    "ATY = ATR[ATR['date']=='7/18/2020']"
   ]
  }
 ],
 "metadata": {
  "kernelspec": {
   "display_name": "Python 3",
   "language": "python",
   "name": "python3"
  },
  "language_info": {
   "codemirror_mode": {
    "name": "ipython",
    "version": 3
   },
   "file_extension": ".py",
   "mimetype": "text/x-python",
   "name": "python",
   "nbconvert_exporter": "python",
   "pygments_lexer": "ipython3",
   "version": "3.8.3"
  }
 },
 "nbformat": 4,
 "nbformat_minor": 4
}
